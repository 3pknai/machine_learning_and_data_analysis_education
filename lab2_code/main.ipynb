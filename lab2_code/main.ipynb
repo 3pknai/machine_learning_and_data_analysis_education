{
 "cells": [
  {
   "cell_type": "markdown",
   "metadata": {},
   "source": [
    "Загрука датасета в pandas и просмотр информации о датасете"
   ]
  },
  {
   "cell_type": "code",
   "execution_count": 1,
   "metadata": {},
   "outputs": [
    {
     "name": "stdout",
     "output_type": "stream",
     "text": [
      "<class 'pandas.core.frame.DataFrame'>\n",
      "RangeIndex: 10007 entries, 0 to 10006\n",
      "Data columns (total 10 columns):\n",
      " #   Column        Non-Null Count  Dtype  \n",
      "---  ------        --------------  -----  \n",
      " 0   Brand         10005 non-null  object \n",
      " 1   Model         10005 non-null  object \n",
      " 2   Year          10005 non-null  float64\n",
      " 3   Engine_Size   10005 non-null  float64\n",
      " 4   Fuel_Type     10005 non-null  object \n",
      " 5   Transmission  10005 non-null  object \n",
      " 6   Mileage       10005 non-null  float64\n",
      " 7   Doors         10003 non-null  float64\n",
      " 8   Owner_Count   10005 non-null  float64\n",
      " 9   Price         10003 non-null  float64\n",
      "dtypes: float64(6), object(4)\n",
      "memory usage: 781.9+ KB\n",
      "None\n",
      "        Brand   Model    Year  Engine_Size Fuel_Type    Transmission  \\\n",
      "0         Kia     Rio  2020.0          4.2    Diesel          Manual   \n",
      "1   Chevrolet  Malibu  2012.0          2.0    Hybrid       Automatic   \n",
      "2    Mercedes     GLA  2020.0          4.2    Diesel       Automatic   \n",
      "3        Audi      Q5  2023.0          2.0  Electric          Manual   \n",
      "4  Volkswagen    Golf  2003.0          2.6    Hybrid  Semi-Automatic   \n",
      "\n",
      "    Mileage  Doors  Owner_Count    Price  \n",
      "0  289944.0    3.0          5.0   8501.0  \n",
      "1    5356.0    2.0          3.0  12092.0  \n",
      "2  231440.0    4.0          2.0  11171.0  \n",
      "3  160971.0    2.0          1.0  11780.0  \n",
      "4  286618.0    3.0          3.0   2867.0  \n"
     ]
    }
   ],
   "source": [
    "import pandas as pd\n",
    "\n",
    "df = pd.read_csv('car_price_dataset.csv')\n",
    "print(df.info())\n",
    "print(df.head())"
   ]
  },
  {
   "cell_type": "markdown",
   "metadata": {},
   "source": [
    "Переименуем колонки"
   ]
  },
  {
   "cell_type": "code",
   "execution_count": 2,
   "metadata": {},
   "outputs": [
    {
     "name": "stdout",
     "output_type": "stream",
     "text": [
      "<class 'pandas.core.frame.DataFrame'>\n",
      "RangeIndex: 10007 entries, 0 to 10006\n",
      "Data columns (total 10 columns):\n",
      " #   Column                 Non-Null Count  Dtype  \n",
      "---  ------                 --------------  -----  \n",
      " 0   Бренд                  10005 non-null  object \n",
      " 1   Модель                 10005 non-null  object \n",
      " 2   Год                    10005 non-null  float64\n",
      " 3   Объём двигателя        10005 non-null  float64\n",
      " 4   Тип топлива            10005 non-null  object \n",
      " 5   Трансмиссия            10005 non-null  object \n",
      " 6   Пробег                 10005 non-null  float64\n",
      " 7   Количество дверей      10003 non-null  float64\n",
      " 8   Количество владельцев  10005 non-null  float64\n",
      " 9   Стоимость              10003 non-null  float64\n",
      "dtypes: float64(6), object(4)\n",
      "memory usage: 781.9+ KB\n",
      "None\n"
     ]
    }
   ],
   "source": [
    "df.rename(columns={'Brand': 'Бренд', 'Model': 'Модель', 'Year': 'Год',\n",
    "        'Engine_Size': 'Объём двигателя', 'Fuel_Type': 'Тип топлива',\n",
    "        'Transmission': 'Трансмиссия', 'Mileage': 'Пробег',\n",
    "        'Doors': 'Количество дверей', 'Owner_Count': 'Количество владельцев',\n",
    "        'Price': 'Стоимость'}, inplace=True)\n",
    "print(df.info())\n",
    "df.to_csv('processed_1.csv',index=False, header=True)"
   ]
  },
  {
   "cell_type": "markdown",
   "metadata": {},
   "source": [
    "Определение пустых строк и их удаление"
   ]
  },
  {
   "cell_type": "code",
   "execution_count": 3,
   "metadata": {},
   "outputs": [
    {
     "name": "stdout",
     "output_type": "stream",
     "text": [
      "   Бренд Модель  Год  Объём двигателя Тип топлива Трансмиссия  Пробег  \\\n",
      "22   NaN    NaN  NaN              NaN         NaN         NaN     NaN   \n",
      "44   NaN    NaN  NaN              NaN         NaN         NaN     NaN   \n",
      "\n",
      "    Количество дверей  Количество владельцев  Стоимость  \n",
      "22                NaN                    NaN        NaN  \n",
      "44                NaN                    NaN        NaN   \n",
      "\n",
      "Empty DataFrame\n",
      "Columns: [Бренд, Модель, Год, Объём двигателя, Тип топлива, Трансмиссия, Пробег, Количество дверей, Количество владельцев, Стоимость]\n",
      "Index: []\n"
     ]
    }
   ],
   "source": [
    "df = pd.read_csv('processed_1.csv')\n",
    "empty_rows = df[df.isnull().all(axis=1)]\n",
    "print(empty_rows, \"\\n\")\n",
    "df.dropna(how='all', inplace=True)\n",
    "\n",
    "empty_rows = df[df.isnull().all(axis=1)]\n",
    "print(empty_rows)\n",
    "\n",
    "df.to_csv('processed_2.csv',index=False, header=True)"
   ]
  },
  {
   "cell_type": "markdown",
   "metadata": {},
   "source": [
    "Определение пустых ячеек столбцов \"Количество дверей\" и \"Стоимость\", замена средним значением колонки (Количество дверей) и средним значением колонки (Стоимость) с учётом параметра другой колонки (Бренд)"
   ]
  },
  {
   "cell_type": "code",
   "execution_count": 4,
   "metadata": {},
   "outputs": [
    {
     "name": "stdout",
     "output_type": "stream",
     "text": [
      "До:\n",
      "   Бренд    Модель     Год  Объём двигателя Тип топлива     Трансмиссия  \\\n",
      "10   Kia  Sportage  2014.0              2.6      Hybrid          Manual   \n",
      "21   Kia       Rio  2000.0              3.4      Diesel  Semi-Automatic   \n",
      "\n",
      "      Пробег  Количество дверей  Количество владельцев  Стоимость  \n",
      "10   98700.0                NaN                    4.0     9926.0  \n",
      "21  257427.0                NaN                    3.0     2351.0  \n",
      "Среднее количество дверей: 3\n",
      "После:\n",
      "         Бренд Модель     Год  Объём двигателя Тип топлива Трансмиссия  \\\n",
      "8        Honda  Civic  2010.0              3.4    Electric   Automatic   \n",
      "18  Volkswagen   Golf  2007.0              3.2      Diesel   Automatic   \n",
      "\n",
      "      Пробег  Количество дверей  Количество владельцев  Стоимость  \n",
      "8   139584.0                3.0                    1.0    11208.0  \n",
      "18   60103.0                2.0                    1.0     9697.0   \n",
      "\n",
      "\n",
      "До:\n",
      "    Бренд Модель     Год  Объём двигателя Тип топлива Трансмиссия    Пробег  \\\n",
      "46  Honda  Civic  2000.0              3.9      Hybrid      Manual   56020.0   \n",
      "49   Audi     Q5  2023.0              3.6    Electric      Manual  238306.0   \n",
      "\n",
      "    Количество дверей  Количество владельцев  Стоимость  \n",
      "46                2.0                    4.0        NaN  \n",
      "49                5.0                    2.0        NaN  \n",
      "Средняя стоимость Honda: 8666\n",
      "Средняя стоимость Audi: 8929\n",
      "После:\n",
      "    Бренд Модель     Год  Объём двигателя Тип топлива Трансмиссия   Пробег  \\\n",
      "43   Ford  Focus  2004.0              1.2    Electric      Manual  93645.0   \n",
      "46  Honda  Civic  2000.0              3.9      Hybrid      Manual  56020.0   \n",
      "\n",
      "    Количество дверей  Количество владельцев  Стоимость  \n",
      "43                3.0                    3.0     6627.0  \n",
      "46                2.0                    4.0     8666.0  \n"
     ]
    }
   ],
   "source": [
    "df = pd.read_csv('processed_2.csv')\n",
    "\n",
    "print(\"До:\")\n",
    "print(df[df['Количество дверей'].isnull() == True])\n",
    "doors = round(df['Количество дверей'].mean())\n",
    "print(f\"Среднее количество дверей: {doors}\")\n",
    "\n",
    "print(\"После:\")\n",
    "df['Количество дверей'] = df['Количество дверей'].fillna(doors) \n",
    "print(df[8:19:10], \"\\n\\n\")\n",
    "\n",
    "\n",
    "print(\"До:\")\n",
    "print(df[df['Стоимость'].isnull() == True])\n",
    "cost_honda = round(df[(df['Бренд'] == 'Honda')]['Стоимость'].mean()) \n",
    "cost_audi = round(df[(df['Бренд'] == 'Audi')]['Стоимость'].mean()) \n",
    "print(f\"Средняя стоимость Honda: {cost_honda}\")\n",
    "print(f\"Средняя стоимость Audi: {cost_audi}\")\n",
    "\n",
    "print(\"После:\")\n",
    "df.loc[df['Бренд'] == 'Honda', 'Стоимость'] = df.loc[df['Бренд'] == 'Honda', 'Стоимость'].fillna(cost_honda)\n",
    "df.loc[df['Бренд'] == 'Audi', 'Стоимость'] = df.loc[df['Бренд'] == 'Audi', 'Стоимость'].fillna(cost_audi) \n",
    "print(df[43:47:3])\n",
    "\n",
    "df.to_csv('processed_3.csv',index=False, header=True)"
   ]
  },
  {
   "cell_type": "markdown",
   "metadata": {},
   "source": [
    "Поиск дубликатов и их удаление"
   ]
  },
  {
   "cell_type": "code",
   "execution_count": 5,
   "metadata": {},
   "outputs": [
    {
     "name": "stdout",
     "output_type": "stream",
     "text": [
      "Количество дубликатов: 3\n",
      "         Бренд    Модель     Год  Объём двигателя Тип топлива     Трансмиссия  \\\n",
      "5   Volkswagen      Golf  2003.0              2.6      Hybrid  Semi-Automatic   \n",
      "6   Volkswagen      Golf  2003.0              2.6      Hybrid  Semi-Automatic   \n",
      "13         BMW  5 Series  2013.0              1.3      Hybrid       Automatic   \n",
      "\n",
      "      Пробег  Количество дверей  Количество владельцев  Стоимость  \n",
      "5   286618.0                3.0                    3.0     2867.0  \n",
      "6   286618.0                3.0                    3.0     2867.0  \n",
      "13  296824.0                2.0                    3.0     5863.0  \n",
      "\n",
      "Количество дубликатов: 0\n",
      "Empty DataFrame\n",
      "Columns: [Бренд, Модель, Год, Объём двигателя, Тип топлива, Трансмиссия, Пробег, Количество дверей, Количество владельцев, Стоимость]\n",
      "Index: []\n"
     ]
    }
   ],
   "source": [
    "df = pd.read_csv('processed_3.csv')\n",
    "\n",
    "print(f\"Количество дубликатов: {df.duplicated().sum()}\")\n",
    "print(df[df.duplicated() == True])\n",
    "print()\n",
    "df.drop_duplicates(inplace=True)\n",
    "print(f\"Количество дубликатов: {df.duplicated().sum()}\")\n",
    "print(df[df.duplicated() == True])\n",
    "\n",
    "df.to_csv('processed_4.csv',index=False, header=True)"
   ]
  },
  {
   "cell_type": "markdown",
   "metadata": {},
   "source": [
    "Изменение типа данных для нескольких колонок"
   ]
  },
  {
   "cell_type": "code",
   "execution_count": 6,
   "metadata": {},
   "outputs": [
    {
     "name": "stdout",
     "output_type": "stream",
     "text": [
      "Бренд                     object\n",
      "Модель                    object\n",
      "Год                      float64\n",
      "Объём двигателя          float64\n",
      "Тип топлива               object\n",
      "Трансмиссия               object\n",
      "Пробег                   float64\n",
      "Количество дверей        float64\n",
      "Количество владельцев    float64\n",
      "Стоимость                float64\n",
      "dtype: object \n",
      "\n",
      "Бренд                     object\n",
      "Модель                    object\n",
      "Год                        int64\n",
      "Объём двигателя          float64\n",
      "Тип топлива               object\n",
      "Трансмиссия               object\n",
      "Пробег                     int64\n",
      "Количество дверей          int64\n",
      "Количество владельцев      int64\n",
      "Стоимость                  int64\n",
      "dtype: object\n"
     ]
    }
   ],
   "source": [
    "df = pd.read_csv('processed_4.csv')\n",
    "\n",
    "print(df.dtypes, \"\\n\")\n",
    "df['Год'] = df['Год'].astype('int64')\n",
    "df['Пробег'] = df['Пробег'].astype('int64')\n",
    "df['Количество дверей'] = df['Количество дверей'].astype('int64')\n",
    "df['Количество владельцев'] = df['Количество владельцев'].astype('int64')\n",
    "df['Стоимость'] = df['Стоимость'].astype('int64')\n",
    "print(df.dtypes)\n",
    "\n",
    "df.to_csv('processed_5.csv',index=False, header=True)"
   ]
  }
 ],
 "metadata": {
  "kernelspec": {
   "display_name": "Python 3",
   "language": "python",
   "name": "python3"
  },
  "language_info": {
   "codemirror_mode": {
    "name": "ipython",
    "version": 3
   },
   "file_extension": ".py",
   "mimetype": "text/x-python",
   "name": "python",
   "nbconvert_exporter": "python",
   "pygments_lexer": "ipython3",
   "version": "3.12.3"
  }
 },
 "nbformat": 4,
 "nbformat_minor": 2
}
